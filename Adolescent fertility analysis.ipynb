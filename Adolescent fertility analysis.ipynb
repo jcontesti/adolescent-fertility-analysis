{
 "cells": [
  {
   "cell_type": "markdown",
   "metadata": {},
   "source": [
    "# Adolescent fertility analysis\n",
    "\n",
    "Notebook to explore and play with data from the United Nations Human Development Project (http://hdr.undp.org). Analysis inspired by chapter 8 found in the Statistics in a Nutshell book."
   ]
  },
  {
   "cell_type": "code",
   "execution_count": 1,
   "metadata": {},
   "outputs": [],
   "source": [
    "# Libraries\n",
    "from scipy import stats\n",
    "from sklearn.linear_model import LinearRegression\n",
    "\n",
    "import pandas as pd\n",
    "import numpy as np\n",
    "import matplotlib.pyplot as plt\n",
    "import statsmodels.api as sm # very handy to build regression model\n",
    "\n",
    "%matplotlib inline"
   ]
  },
  {
   "cell_type": "markdown",
   "metadata": {},
   "source": [
    "# Data import"
   ]
  },
  {
   "cell_type": "code",
   "execution_count": 2,
   "metadata": {},
   "outputs": [],
   "source": [
    "# Load files:\n",
    "#   Gender Inequality Index (GII). Source http://hdr.undp.org/en/indicators/68606).\n",
    "#   Adolescent birth rate (births per 1,000 women ages 15-19). Source: http://hdr.undp.org/en/indicators/36806.\n",
    "# Set the right encoding = latin\n",
    "# Ignore first list and the last two ones\n",
    "\n",
    "GII = pd.read_csv(\n",
    "    'Gender Inequality Index (GII).csv', \n",
    "    encoding='ISO-8859-1',\n",
    "    skiprows=1,\n",
    "    skipfooter=2,\n",
    "    engine='python',\n",
    ")\n",
    "\n",
    "adolescent_birth_rate = pd.read_csv(\n",
    "    'Adolescent birth rate (births per 1,000 women ages 15-19).csv', \n",
    "    encoding='ISO-8859-1',\n",
    "    skiprows=1,\n",
    "    skipfooter=2,\n",
    "    engine='python',\n",
    ")"
   ]
  },
  {
   "cell_type": "markdown",
   "metadata": {},
   "source": [
    "# Data cleaning"
   ]
  },
  {
   "cell_type": "code",
   "execution_count": 3,
   "metadata": {},
   "outputs": [
    {
     "data": {
      "text/html": [
       "<div>\n",
       "<style scoped>\n",
       "    .dataframe tbody tr th:only-of-type {\n",
       "        vertical-align: middle;\n",
       "    }\n",
       "\n",
       "    .dataframe tbody tr th {\n",
       "        vertical-align: top;\n",
       "    }\n",
       "\n",
       "    .dataframe thead th {\n",
       "        text-align: right;\n",
       "    }\n",
       "</style>\n",
       "<table border=\"1\" class=\"dataframe\">\n",
       "  <thead>\n",
       "    <tr style=\"text-align: right;\">\n",
       "      <th></th>\n",
       "      <th>HDI Rank</th>\n",
       "      <th>Country</th>\n",
       "      <th>1995</th>\n",
       "      <th>Unnamed: 3</th>\n",
       "      <th>2000</th>\n",
       "      <th>Unnamed: 5</th>\n",
       "      <th>2005</th>\n",
       "      <th>Unnamed: 7</th>\n",
       "      <th>2010</th>\n",
       "      <th>Unnamed: 9</th>\n",
       "      <th>...</th>\n",
       "      <th>2013</th>\n",
       "      <th>Unnamed: 15</th>\n",
       "      <th>2014</th>\n",
       "      <th>Unnamed: 17</th>\n",
       "      <th>2015</th>\n",
       "      <th>Unnamed: 19</th>\n",
       "      <th>2016</th>\n",
       "      <th>Unnamed: 21</th>\n",
       "      <th>2017</th>\n",
       "      <th>Unnamed: 23</th>\n",
       "    </tr>\n",
       "  </thead>\n",
       "  <tbody>\n",
       "    <tr>\n",
       "      <th>0</th>\n",
       "      <td>168</td>\n",
       "      <td>Afghanistan</td>\n",
       "      <td>NaN</td>\n",
       "      <td>NaN</td>\n",
       "      <td>NaN</td>\n",
       "      <td>NaN</td>\n",
       "      <td>0.742</td>\n",
       "      <td>NaN</td>\n",
       "      <td>0.728</td>\n",
       "      <td>NaN</td>\n",
       "      <td>...</td>\n",
       "      <td>0.694</td>\n",
       "      <td>NaN</td>\n",
       "      <td>0.682</td>\n",
       "      <td>NaN</td>\n",
       "      <td>0.672</td>\n",
       "      <td>NaN</td>\n",
       "      <td>0.660</td>\n",
       "      <td>NaN</td>\n",
       "      <td>0.653</td>\n",
       "      <td>NaN</td>\n",
       "    </tr>\n",
       "    <tr>\n",
       "      <th>1</th>\n",
       "      <td>68</td>\n",
       "      <td>Albania</td>\n",
       "      <td>NaN</td>\n",
       "      <td>NaN</td>\n",
       "      <td>0.380</td>\n",
       "      <td>NaN</td>\n",
       "      <td>0.329</td>\n",
       "      <td>NaN</td>\n",
       "      <td>0.273</td>\n",
       "      <td>NaN</td>\n",
       "      <td>...</td>\n",
       "      <td>0.267</td>\n",
       "      <td>NaN</td>\n",
       "      <td>0.261</td>\n",
       "      <td>NaN</td>\n",
       "      <td>0.256</td>\n",
       "      <td>NaN</td>\n",
       "      <td>0.250</td>\n",
       "      <td>NaN</td>\n",
       "      <td>0.238</td>\n",
       "      <td>NaN</td>\n",
       "    </tr>\n",
       "    <tr>\n",
       "      <th>2</th>\n",
       "      <td>85</td>\n",
       "      <td>Algeria</td>\n",
       "      <td>0.679</td>\n",
       "      <td>a</td>\n",
       "      <td>0.627</td>\n",
       "      <td>NaN</td>\n",
       "      <td>0.561</td>\n",
       "      <td>NaN</td>\n",
       "      <td>0.528</td>\n",
       "      <td>NaN</td>\n",
       "      <td>...</td>\n",
       "      <td>0.432</td>\n",
       "      <td>NaN</td>\n",
       "      <td>0.437</td>\n",
       "      <td>NaN</td>\n",
       "      <td>0.437</td>\n",
       "      <td>NaN</td>\n",
       "      <td>0.432</td>\n",
       "      <td>NaN</td>\n",
       "      <td>0.442</td>\n",
       "      <td>NaN</td>\n",
       "    </tr>\n",
       "    <tr>\n",
       "      <th>3</th>\n",
       "      <td>47</td>\n",
       "      <td>Argentina</td>\n",
       "      <td>0.419</td>\n",
       "      <td>a</td>\n",
       "      <td>0.411</td>\n",
       "      <td>NaN</td>\n",
       "      <td>0.372</td>\n",
       "      <td>NaN</td>\n",
       "      <td>0.374</td>\n",
       "      <td>NaN</td>\n",
       "      <td>...</td>\n",
       "      <td>0.365</td>\n",
       "      <td>NaN</td>\n",
       "      <td>0.365</td>\n",
       "      <td>NaN</td>\n",
       "      <td>NaN</td>\n",
       "      <td>NaN</td>\n",
       "      <td>0.361</td>\n",
       "      <td>NaN</td>\n",
       "      <td>0.358</td>\n",
       "      <td>NaN</td>\n",
       "    </tr>\n",
       "    <tr>\n",
       "      <th>4</th>\n",
       "      <td>83</td>\n",
       "      <td>Armenia</td>\n",
       "      <td>0.474</td>\n",
       "      <td>a</td>\n",
       "      <td>0.468</td>\n",
       "      <td>NaN</td>\n",
       "      <td>0.403</td>\n",
       "      <td>NaN</td>\n",
       "      <td>0.344</td>\n",
       "      <td>NaN</td>\n",
       "      <td>...</td>\n",
       "      <td>0.312</td>\n",
       "      <td>NaN</td>\n",
       "      <td>0.306</td>\n",
       "      <td>NaN</td>\n",
       "      <td>0.302</td>\n",
       "      <td>NaN</td>\n",
       "      <td>0.296</td>\n",
       "      <td>NaN</td>\n",
       "      <td>0.262</td>\n",
       "      <td>NaN</td>\n",
       "    </tr>\n",
       "  </tbody>\n",
       "</table>\n",
       "<p>5 rows × 24 columns</p>\n",
       "</div>"
      ],
      "text/plain": [
       "   HDI Rank       Country   1995 Unnamed: 3   2000  Unnamed: 5   2005  \\\n",
       "0       168   Afghanistan    NaN        NaN    NaN         NaN  0.742   \n",
       "1        68       Albania    NaN        NaN  0.380         NaN  0.329   \n",
       "2        85       Algeria  0.679          a  0.627         NaN  0.561   \n",
       "3        47     Argentina  0.419          a  0.411         NaN  0.372   \n",
       "4        83       Armenia  0.474          a  0.468         NaN  0.403   \n",
       "\n",
       "   Unnamed: 7   2010  Unnamed: 9  ...   2013  Unnamed: 15   2014  Unnamed: 17  \\\n",
       "0         NaN  0.728         NaN  ...  0.694          NaN  0.682          NaN   \n",
       "1         NaN  0.273         NaN  ...  0.267          NaN  0.261          NaN   \n",
       "2         NaN  0.528         NaN  ...  0.432          NaN  0.437          NaN   \n",
       "3         NaN  0.374         NaN  ...  0.365          NaN  0.365          NaN   \n",
       "4         NaN  0.344         NaN  ...  0.312          NaN  0.306          NaN   \n",
       "\n",
       "    2015  Unnamed: 19   2016  Unnamed: 21   2017  Unnamed: 23  \n",
       "0  0.672          NaN  0.660          NaN  0.653          NaN  \n",
       "1  0.256          NaN  0.250          NaN  0.238          NaN  \n",
       "2  0.437          NaN  0.432          NaN  0.442          NaN  \n",
       "3    NaN          NaN  0.361          NaN  0.358          NaN  \n",
       "4  0.302          NaN  0.296          NaN  0.262          NaN  \n",
       "\n",
       "[5 rows x 24 columns]"
      ]
     },
     "execution_count": 3,
     "metadata": {},
     "output_type": "execute_result"
    }
   ],
   "source": [
    "# Show first lines\n",
    "GII.head()"
   ]
  },
  {
   "cell_type": "code",
   "execution_count": 4,
   "metadata": {},
   "outputs": [
    {
     "data": {
      "text/html": [
       "<div>\n",
       "<style scoped>\n",
       "    .dataframe tbody tr th:only-of-type {\n",
       "        vertical-align: middle;\n",
       "    }\n",
       "\n",
       "    .dataframe tbody tr th {\n",
       "        vertical-align: top;\n",
       "    }\n",
       "\n",
       "    .dataframe thead th {\n",
       "        text-align: right;\n",
       "    }\n",
       "</style>\n",
       "<table border=\"1\" class=\"dataframe\">\n",
       "  <thead>\n",
       "    <tr style=\"text-align: right;\">\n",
       "      <th></th>\n",
       "      <th>HDI Rank</th>\n",
       "      <th>Country</th>\n",
       "      <th>1990</th>\n",
       "      <th>Unnamed: 3</th>\n",
       "      <th>1995</th>\n",
       "      <th>Unnamed: 5</th>\n",
       "      <th>2000</th>\n",
       "      <th>Unnamed: 7</th>\n",
       "      <th>2005</th>\n",
       "      <th>Unnamed: 9</th>\n",
       "      <th>...</th>\n",
       "      <th>2013</th>\n",
       "      <th>Unnamed: 17</th>\n",
       "      <th>2014</th>\n",
       "      <th>Unnamed: 19</th>\n",
       "      <th>2015</th>\n",
       "      <th>Unnamed: 21</th>\n",
       "      <th>2016</th>\n",
       "      <th>Unnamed: 23</th>\n",
       "      <th>2017</th>\n",
       "      <th>Unnamed: 25</th>\n",
       "    </tr>\n",
       "  </thead>\n",
       "  <tbody>\n",
       "    <tr>\n",
       "      <th>0</th>\n",
       "      <td>168</td>\n",
       "      <td>Afghanistan</td>\n",
       "      <td>161.2</td>\n",
       "      <td>NaN</td>\n",
       "      <td>163.9</td>\n",
       "      <td>NaN</td>\n",
       "      <td>165.2</td>\n",
       "      <td>NaN</td>\n",
       "      <td>146.4</td>\n",
       "      <td>NaN</td>\n",
       "      <td>...</td>\n",
       "      <td>85.9</td>\n",
       "      <td>NaN</td>\n",
       "      <td>80.6</td>\n",
       "      <td>NaN</td>\n",
       "      <td>75.3</td>\n",
       "      <td>NaN</td>\n",
       "      <td>64.5</td>\n",
       "      <td>NaN</td>\n",
       "      <td>64.5</td>\n",
       "      <td>a</td>\n",
       "    </tr>\n",
       "    <tr>\n",
       "      <th>1</th>\n",
       "      <td>68</td>\n",
       "      <td>Albania</td>\n",
       "      <td>16.3</td>\n",
       "      <td>NaN</td>\n",
       "      <td>18.7</td>\n",
       "      <td>NaN</td>\n",
       "      <td>19.3</td>\n",
       "      <td>NaN</td>\n",
       "      <td>18.8</td>\n",
       "      <td>NaN</td>\n",
       "      <td>...</td>\n",
       "      <td>20.3</td>\n",
       "      <td>NaN</td>\n",
       "      <td>20.5</td>\n",
       "      <td>NaN</td>\n",
       "      <td>20.7</td>\n",
       "      <td>NaN</td>\n",
       "      <td>20.7</td>\n",
       "      <td>NaN</td>\n",
       "      <td>20.7</td>\n",
       "      <td>a</td>\n",
       "    </tr>\n",
       "    <tr>\n",
       "      <th>2</th>\n",
       "      <td>85</td>\n",
       "      <td>Algeria</td>\n",
       "      <td>33.1</td>\n",
       "      <td>NaN</td>\n",
       "      <td>24.3</td>\n",
       "      <td>NaN</td>\n",
       "      <td>14.9</td>\n",
       "      <td>NaN</td>\n",
       "      <td>9.7</td>\n",
       "      <td>NaN</td>\n",
       "      <td>...</td>\n",
       "      <td>10.8</td>\n",
       "      <td>NaN</td>\n",
       "      <td>10.8</td>\n",
       "      <td>NaN</td>\n",
       "      <td>10.8</td>\n",
       "      <td>NaN</td>\n",
       "      <td>10.1</td>\n",
       "      <td>NaN</td>\n",
       "      <td>10.1</td>\n",
       "      <td>a</td>\n",
       "    </tr>\n",
       "    <tr>\n",
       "      <th>3</th>\n",
       "      <td>147</td>\n",
       "      <td>Angola</td>\n",
       "      <td>220.5</td>\n",
       "      <td>NaN</td>\n",
       "      <td>213.0</td>\n",
       "      <td>NaN</td>\n",
       "      <td>202.5</td>\n",
       "      <td>NaN</td>\n",
       "      <td>192.8</td>\n",
       "      <td>NaN</td>\n",
       "      <td>...</td>\n",
       "      <td>164.7</td>\n",
       "      <td>NaN</td>\n",
       "      <td>161.8</td>\n",
       "      <td>NaN</td>\n",
       "      <td>158.8</td>\n",
       "      <td>NaN</td>\n",
       "      <td>151.6</td>\n",
       "      <td>NaN</td>\n",
       "      <td>151.6</td>\n",
       "      <td>a</td>\n",
       "    </tr>\n",
       "    <tr>\n",
       "      <th>4</th>\n",
       "      <td>70</td>\n",
       "      <td>Antigua and Barbuda</td>\n",
       "      <td>83.3</td>\n",
       "      <td>NaN</td>\n",
       "      <td>71.9</td>\n",
       "      <td>NaN</td>\n",
       "      <td>68.7</td>\n",
       "      <td>NaN</td>\n",
       "      <td>62.8</td>\n",
       "      <td>NaN</td>\n",
       "      <td>...</td>\n",
       "      <td>48.8</td>\n",
       "      <td>NaN</td>\n",
       "      <td>47.6</td>\n",
       "      <td>NaN</td>\n",
       "      <td>46.4</td>\n",
       "      <td>NaN</td>\n",
       "      <td>43.5</td>\n",
       "      <td>NaN</td>\n",
       "      <td>43.5</td>\n",
       "      <td>a</td>\n",
       "    </tr>\n",
       "  </tbody>\n",
       "</table>\n",
       "<p>5 rows × 26 columns</p>\n",
       "</div>"
      ],
      "text/plain": [
       "  HDI Rank               Country   1990  Unnamed: 3   1995  Unnamed: 5   2000  \\\n",
       "0      168           Afghanistan  161.2         NaN  163.9         NaN  165.2   \n",
       "1       68               Albania   16.3         NaN   18.7         NaN   19.3   \n",
       "2       85               Algeria   33.1         NaN   24.3         NaN   14.9   \n",
       "3      147                Angola  220.5         NaN  213.0         NaN  202.5   \n",
       "4       70   Antigua and Barbuda   83.3         NaN   71.9         NaN   68.7   \n",
       "\n",
       "   Unnamed: 7   2005  Unnamed: 9  ...   2013  Unnamed: 17   2014  Unnamed: 19  \\\n",
       "0         NaN  146.4         NaN  ...   85.9          NaN   80.6          NaN   \n",
       "1         NaN   18.8         NaN  ...   20.3          NaN   20.5          NaN   \n",
       "2         NaN    9.7         NaN  ...   10.8          NaN   10.8          NaN   \n",
       "3         NaN  192.8         NaN  ...  164.7          NaN  161.8          NaN   \n",
       "4         NaN   62.8         NaN  ...   48.8          NaN   47.6          NaN   \n",
       "\n",
       "    2015  Unnamed: 21   2016  Unnamed: 23   2017  Unnamed: 25  \n",
       "0   75.3          NaN   64.5          NaN   64.5            a  \n",
       "1   20.7          NaN   20.7          NaN   20.7            a  \n",
       "2   10.8          NaN   10.1          NaN   10.1            a  \n",
       "3  158.8          NaN  151.6          NaN  151.6            a  \n",
       "4   46.4          NaN   43.5          NaN   43.5            a  \n",
       "\n",
       "[5 rows x 26 columns]"
      ]
     },
     "execution_count": 4,
     "metadata": {},
     "output_type": "execute_result"
    }
   ],
   "source": [
    "# Show first lines\n",
    "adolescent_birth_rate.head()"
   ]
  },
  {
   "cell_type": "markdown",
   "metadata": {},
   "source": [
    "We should remove unnamed columns:"
   ]
  },
  {
   "cell_type": "code",
   "execution_count": 5,
   "metadata": {},
   "outputs": [],
   "source": [
    "def remove_unnamed_columns(df):\n",
    "    return df.loc[:, ~df.columns.str.contains('^Unnamed')] # https://stackoverflow.com/a/43983654\n",
    "\n",
    "GII = remove_unnamed_columns(GII)\n",
    "adolescent_birth_rate = remove_unnamed_columns(adolescent_birth_rate)"
   ]
  },
  {
   "cell_type": "code",
   "execution_count": 6,
   "metadata": {},
   "outputs": [
    {
     "data": {
      "text/html": [
       "<div>\n",
       "<style scoped>\n",
       "    .dataframe tbody tr th:only-of-type {\n",
       "        vertical-align: middle;\n",
       "    }\n",
       "\n",
       "    .dataframe tbody tr th {\n",
       "        vertical-align: top;\n",
       "    }\n",
       "\n",
       "    .dataframe thead th {\n",
       "        text-align: right;\n",
       "    }\n",
       "</style>\n",
       "<table border=\"1\" class=\"dataframe\">\n",
       "  <thead>\n",
       "    <tr style=\"text-align: right;\">\n",
       "      <th></th>\n",
       "      <th>HDI Rank</th>\n",
       "      <th>Country</th>\n",
       "      <th>1995</th>\n",
       "      <th>2000</th>\n",
       "      <th>2005</th>\n",
       "      <th>2010</th>\n",
       "      <th>2011</th>\n",
       "      <th>2012</th>\n",
       "      <th>2013</th>\n",
       "      <th>2014</th>\n",
       "      <th>2015</th>\n",
       "      <th>2016</th>\n",
       "      <th>2017</th>\n",
       "    </tr>\n",
       "  </thead>\n",
       "  <tbody>\n",
       "    <tr>\n",
       "      <th>0</th>\n",
       "      <td>168</td>\n",
       "      <td>Afghanistan</td>\n",
       "      <td>NaN</td>\n",
       "      <td>NaN</td>\n",
       "      <td>0.742</td>\n",
       "      <td>0.728</td>\n",
       "      <td>0.717</td>\n",
       "      <td>0.706</td>\n",
       "      <td>0.694</td>\n",
       "      <td>0.682</td>\n",
       "      <td>0.672</td>\n",
       "      <td>0.660</td>\n",
       "      <td>0.653</td>\n",
       "    </tr>\n",
       "    <tr>\n",
       "      <th>1</th>\n",
       "      <td>68</td>\n",
       "      <td>Albania</td>\n",
       "      <td>NaN</td>\n",
       "      <td>0.380</td>\n",
       "      <td>0.329</td>\n",
       "      <td>0.273</td>\n",
       "      <td>0.276</td>\n",
       "      <td>0.275</td>\n",
       "      <td>0.267</td>\n",
       "      <td>0.261</td>\n",
       "      <td>0.256</td>\n",
       "      <td>0.250</td>\n",
       "      <td>0.238</td>\n",
       "    </tr>\n",
       "    <tr>\n",
       "      <th>2</th>\n",
       "      <td>85</td>\n",
       "      <td>Algeria</td>\n",
       "      <td>0.679</td>\n",
       "      <td>0.627</td>\n",
       "      <td>0.561</td>\n",
       "      <td>0.528</td>\n",
       "      <td>0.519</td>\n",
       "      <td>0.436</td>\n",
       "      <td>0.432</td>\n",
       "      <td>0.437</td>\n",
       "      <td>0.437</td>\n",
       "      <td>0.432</td>\n",
       "      <td>0.442</td>\n",
       "    </tr>\n",
       "    <tr>\n",
       "      <th>3</th>\n",
       "      <td>47</td>\n",
       "      <td>Argentina</td>\n",
       "      <td>0.419</td>\n",
       "      <td>0.411</td>\n",
       "      <td>0.372</td>\n",
       "      <td>0.374</td>\n",
       "      <td>0.368</td>\n",
       "      <td>0.366</td>\n",
       "      <td>0.365</td>\n",
       "      <td>0.365</td>\n",
       "      <td>NaN</td>\n",
       "      <td>0.361</td>\n",
       "      <td>0.358</td>\n",
       "    </tr>\n",
       "    <tr>\n",
       "      <th>4</th>\n",
       "      <td>83</td>\n",
       "      <td>Armenia</td>\n",
       "      <td>0.474</td>\n",
       "      <td>0.468</td>\n",
       "      <td>0.403</td>\n",
       "      <td>0.344</td>\n",
       "      <td>0.339</td>\n",
       "      <td>0.319</td>\n",
       "      <td>0.312</td>\n",
       "      <td>0.306</td>\n",
       "      <td>0.302</td>\n",
       "      <td>0.296</td>\n",
       "      <td>0.262</td>\n",
       "    </tr>\n",
       "  </tbody>\n",
       "</table>\n",
       "</div>"
      ],
      "text/plain": [
       "   HDI Rank       Country   1995   2000   2005   2010   2011   2012   2013  \\\n",
       "0       168   Afghanistan    NaN    NaN  0.742  0.728  0.717  0.706  0.694   \n",
       "1        68       Albania    NaN  0.380  0.329  0.273  0.276  0.275  0.267   \n",
       "2        85       Algeria  0.679  0.627  0.561  0.528  0.519  0.436  0.432   \n",
       "3        47     Argentina  0.419  0.411  0.372  0.374  0.368  0.366  0.365   \n",
       "4        83       Armenia  0.474  0.468  0.403  0.344  0.339  0.319  0.312   \n",
       "\n",
       "    2014   2015   2016   2017  \n",
       "0  0.682  0.672  0.660  0.653  \n",
       "1  0.261  0.256  0.250  0.238  \n",
       "2  0.437  0.437  0.432  0.442  \n",
       "3  0.365    NaN  0.361  0.358  \n",
       "4  0.306  0.302  0.296  0.262  "
      ]
     },
     "execution_count": 6,
     "metadata": {},
     "output_type": "execute_result"
    }
   ],
   "source": [
    "GII.head(5)"
   ]
  },
  {
   "cell_type": "markdown",
   "metadata": {},
   "source": [
    "# Data visualization"
   ]
  },
  {
   "cell_type": "markdown",
   "metadata": {},
   "source": [
    "To simplify the data visualization, we merge both datasets into one. Let's call them df..."
   ]
  },
  {
   "cell_type": "code",
   "execution_count": 7,
   "metadata": {},
   "outputs": [],
   "source": [
    "df = GII.merge(adolescent_birth_rate, left_on='Country', right_on='Country', suffixes=('_GII', '_adolescent_birth_rate'))"
   ]
  },
  {
   "cell_type": "code",
   "execution_count": 8,
   "metadata": {
    "scrolled": true
   },
   "outputs": [
    {
     "data": {
      "text/plain": [
       "<matplotlib.axes._subplots.AxesSubplot at 0x1a21e51278>"
      ]
     },
     "execution_count": 8,
     "metadata": {},
     "output_type": "execute_result"
    },
    {
     "data": {
      "image/png": "[encoded data removed]",
      "text/plain": [
       "<Figure size 432x288 with 1 Axes>"
      ]
     },
     "metadata": {
      "needs_background": "light"
     },
     "output_type": "display_data"
    }
   ],
   "source": [
    "# Analyse correlation between both datasets selecting latest year\n",
    "df.plot(kind='scatter', x='2017_GII', y='2017_adolescent_birth_rate', color='r')"
   ]
  },
  {
   "cell_type": "markdown",
   "metadata": {},
   "source": [
    "As we can see the relatinship betweeh the two variables is curvilinear instead of linear."
   ]
  },
  {
   "cell_type": "code",
   "execution_count": 9,
   "metadata": {},
   "outputs": [],
   "source": [
    "# Function to test if data follow normal distribution using a Kolmogorov–Smirnov test\n",
    "def is_data_normal(data, alpha=0.05):\n",
    "    mean, sd = stats.norm.fit(data) # Try to fit data to a normal distribution if possible\n",
    "    norm_to_compare = stats.norm(mean, sd) # Create normal distribution with obtained statistics\n",
    "\n",
    "    ks_result = stats.kstest(data, norm_to_compare.cdf) # Compare data with cumulative distribution function \n",
    "    \n",
    "    return ks_result.pvalue > alpha"
   ]
  },
  {
   "cell_type": "markdown",
   "metadata": {},
   "source": [
    "Check normality of data, as a requirement to build a regression model:"
   ]
  },
  {
   "cell_type": "code",
   "execution_count": 10,
   "metadata": {},
   "outputs": [
    {
     "name": "stdout",
     "output_type": "stream",
     "text": [
      "Is 2017_GII normal?:  True\n"
     ]
    },
    {
     "data": {
      "text/plain": [
       "<matplotlib.axes._subplots.AxesSubplot at 0x1c23657eb8>"
      ]
     },
     "execution_count": 10,
     "metadata": {},
     "output_type": "execute_result"
    },
    {
     "data": {
      "image/png": "[encoded data removed]",
      "text/plain": [
       "<Figure size 432x288 with 1 Axes>"
      ]
     },
     "metadata": {
      "needs_background": "light"
     },
     "output_type": "display_data"
    }
   ],
   "source": [
    "print('Is 2017_GII normal?: ', \n",
    "      is_data_normal(df['2017_GII'].dropna())\n",
    "     )\n",
    "df['2017_GII'].dropna().plot.hist(bins=50)"
   ]
  },
  {
   "cell_type": "code",
   "execution_count": 11,
   "metadata": {},
   "outputs": [
    {
     "name": "stdout",
     "output_type": "stream",
     "text": [
      "Is 2017_adolescent_birth_rate normal?:  False\n"
     ]
    },
    {
     "data": {
      "image/png": "[encoded data removed]",
      "text/plain": [
       "<Figure size 432x288 with 1 Axes>"
      ]
     },
     "metadata": {
      "needs_background": "light"
     },
     "output_type": "display_data"
    }
   ],
   "source": [
    "df['2017_adolescent_birth_rate'].plot.hist(bins=50)\n",
    "print('Is 2017_adolescent_birth_rate normal?: ', \n",
    "      is_data_normal(df['2017_adolescent_birth_rate'])\n",
    "     )"
   ]
  },
  {
   "cell_type": "code",
   "execution_count": 12,
   "metadata": {
    "scrolled": false
   },
   "outputs": [
    {
     "name": "stdout",
     "output_type": "stream",
     "text": [
      "Is natural log of 2017_adolescent_birth_rate normal?:  True\n"
     ]
    },
    {
     "data": {
      "image/png": "[encoded data removed]",
      "text/plain": [
       "<Figure size 432x288 with 1 Axes>"
      ]
     },
     "metadata": {
      "needs_background": "light"
     },
     "output_type": "display_data"
    }
   ],
   "source": [
    "np.log(df['2017_adolescent_birth_rate']).plot.hist(bins=50)\n",
    "print('Is natural log of 2017_adolescent_birth_rate normal?: ', \n",
    "      is_data_normal(np.log(df['2017_adolescent_birth_rate']))\n",
    "     )"
   ]
  },
  {
   "cell_type": "markdown",
   "metadata": {},
   "source": [
    "Now, we can check the relationship between the two variables again, but computing the natural log of the adolescent birth rate:"
   ]
  },
  {
   "cell_type": "code",
   "execution_count": 13,
   "metadata": {},
   "outputs": [
    {
     "data": {
      "text/plain": [
       "<matplotlib.axes._subplots.AxesSubplot at 0x1c23e4c2b0>"
      ]
     },
     "execution_count": 13,
     "metadata": {},
     "output_type": "execute_result"
    },
    {
     "data": {
      "image/png": "[encoded data removed]",
      "text/plain": [
       "<Figure size 432x288 with 1 Axes>"
      ]
     },
     "metadata": {
      "needs_background": "light"
     },
     "output_type": "display_data"
    }
   ],
   "source": [
    "# Analyse correlation between both datasets selecting latest year\n",
    "df['ln_2017_adolescent_birth_rate'] = np.log(df['2017_adolescent_birth_rate'])\n",
    "df.plot(kind='scatter', x='2017_GII', y='ln_2017_adolescent_birth_rate', color='r')"
   ]
  },
  {
   "cell_type": "markdown",
   "metadata": {},
   "source": [
    "# Regression analysis"
   ]
  },
  {
   "cell_type": "markdown",
   "metadata": {},
   "source": [
    "Our hypohesis is that the adolescent fertiliy is lower in countries where women are treated more equally. To test this hypothesis, we will perform a regression analysis.\n",
    "\n",
    "The regression model could be:"
   ]
  },
  {
   "cell_type": "markdown",
   "metadata": {},
   "source": [
    "\\begin{align}\n",
    "\\ln(adolescent fertility) & = \\beta_{0} + \\beta_{1}(GII) + \\epsilon\n",
    "\\end{align}"
   ]
  },
  {
   "cell_type": "code",
   "execution_count": 14,
   "metadata": {},
   "outputs": [
    {
     "name": "stdout",
     "output_type": "stream",
     "text": [
      "                            OLS Regression Results                            \n",
      "==============================================================================\n",
      "Dep. Variable:                      y   R-squared:                       0.744\n",
      "Model:                            OLS   Adj. R-squared:                  0.742\n",
      "Method:                 Least Squares   F-statistic:                     450.2\n",
      "Date:                Sun, 25 Aug 2019   Prob (F-statistic):           1.05e-47\n",
      "Time:                        19:51:17   Log-Likelihood:                -122.51\n",
      "No. Observations:                 157   AIC:                             249.0\n",
      "Df Residuals:                     155   BIC:                             255.1\n",
      "Df Model:                           1                                         \n",
      "Covariance Type:            nonrobust                                         \n",
      "==============================================================================\n",
      "                 coef    std err          t      P>|t|      [0.025      0.975]\n",
      "------------------------------------------------------------------------------\n",
      "const          1.6708      0.089     18.840      0.000       1.496       1.846\n",
      "x1             4.7599      0.224     21.219      0.000       4.317       5.203\n",
      "==============================================================================\n",
      "Omnibus:                       14.919   Durbin-Watson:                   2.184\n",
      "Prob(Omnibus):                  0.001   Jarque-Bera (JB):               16.290\n",
      "Skew:                          -0.767   Prob(JB):                     0.000290\n",
      "Kurtosis:                       3.367   Cond. No.                         5.95\n",
      "==============================================================================\n",
      "\n",
      "Warnings:\n",
      "[1] Standard Errors assume that the covariance matrix of the errors is correctly specified.\n"
     ]
    }
   ],
   "source": [
    "# Select only the columns we are going to use in our analysis\n",
    "df_regression = df[['2017_GII', 'ln_2017_adolescent_birth_rate']].dropna()\n",
    "\n",
    "# Model implementation with statsmodels\n",
    "X = df_regression['2017_GII'].values\n",
    "y = df_regression['ln_2017_adolescent_birth_rate'].values\n",
    "\n",
    "X2 = sm.add_constant(X)\n",
    "est = sm.OLS(y, X2)\n",
    "\n",
    "model = est.fit()\n",
    "\n",
    "print(model.summary())"
   ]
  },
  {
   "cell_type": "markdown",
   "metadata": {},
   "source": [
    "The previous summary shows the coeficients that we can use to write the regression equation. Let's build a graph with them:"
   ]
  },
  {
   "cell_type": "code",
   "execution_count": 15,
   "metadata": {
    "scrolled": false
   },
   "outputs": [
    {
     "data": {
      "text/plain": [
       "[<matplotlib.lines.Line2D at 0x1c23d14e10>]"
      ]
     },
     "execution_count": 15,
     "metadata": {},
     "output_type": "execute_result"
    },
    {
     "data": {
      "image/png": "[encoded data removed]",
      "text/plain": [
       "<Figure size 432x288 with 1 Axes>"
      ]
     },
     "metadata": {
      "needs_background": "light"
     },
     "output_type": "display_data"
    }
   ],
   "source": [
    "df_regression['regression_GII_birth_rate'] = 1.6708 + 4.7599 * df['2017_GII']\n",
    "\n",
    "fig, ax = plt.subplots()\n",
    "df_regression.plot(kind='scatter', x='2017_GII', y='ln_2017_adolescent_birth_rate', color='r', ax=ax)\n",
    "ax.plot(df_regression['2017_GII'], df_regression['regression_GII_birth_rate'])"
   ]
  },
  {
   "cell_type": "markdown",
   "metadata": {},
   "source": [
    "Finally, we plot the standardized residuals vs the standardidzed predicted values to check homoscedasticity (variance of the error of the model is constant or not):"
   ]
  },
  {
   "cell_type": "code",
   "execution_count": 16,
   "metadata": {},
   "outputs": [],
   "source": [
    "influence = model.get_influence()"
   ]
  },
  {
   "cell_type": "code",
   "execution_count": 17,
   "metadata": {},
   "outputs": [
    {
     "data": {
      "text/plain": [
       "<matplotlib.axes._subplots.AxesSubplot at 0x1c23cd3ef0>"
      ]
     },
     "execution_count": 17,
     "metadata": {},
     "output_type": "execute_result"
    },
    {
     "data": {
      "image/png": "[encoded data removed]",
      "text/plain": [
       "<Figure size 432x288 with 1 Axes>"
      ]
     },
     "metadata": {
      "needs_background": "light"
     },
     "output_type": "display_data"
    }
   ],
   "source": [
    "df_regression['regression_GII_birth_rate_standardized_residuals'] = influence.resid_studentized_internal\n",
    "df_regression.plot(\n",
    "    kind='scatter', \n",
    "    x='regression_GII_birth_rate', \n",
    "    y='regression_GII_birth_rate_standardized_residuals', \n",
    "    color='g'\n",
    ")"
   ]
  }
 ],
 "metadata": {
  "kernelspec": {
   "display_name": "Python 3",
   "language": "python",
   "name": "python3"
  },
  "language_info": {
   "codemirror_mode": {
    "name": "ipython",
    "version": 3
   },
   "file_extension": ".py",
   "mimetype": "text/x-python",
   "name": "python",
   "nbconvert_exporter": "python",
   "pygments_lexer": "ipython3",
   "version": "3.7.3"
  }
 },
 "nbformat": 4,
 "nbformat_minor": 2
}
